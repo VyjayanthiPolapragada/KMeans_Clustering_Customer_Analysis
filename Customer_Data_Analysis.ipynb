{
 "cells": [
  {
   "cell_type": "code",
   "execution_count": 1,
   "id": "c0654179",
   "metadata": {},
   "outputs": [],
   "source": [
    "#Clustering customer data set using KMeans Algorithm"
   ]
  },
  {
   "cell_type": "code",
   "execution_count": 2,
   "id": "b0d3994a",
   "metadata": {},
   "outputs": [],
   "source": [
    "#Importing all the libraries\n",
    "\n",
    "import pandas as pd\n",
    "from sklearn.cluster import KMeans\n",
    "import matplotlib.pyplot as plt"
   ]
  },
  {
   "cell_type": "code",
   "execution_count": 12,
   "id": "982acff6",
   "metadata": {},
   "outputs": [],
   "source": [
    "#reading the downloaded data set (csv file)\n",
    "\n",
    "df = pd.read_csv('Wholesale customers data.csv')"
   ]
  },
  {
   "cell_type": "code",
   "execution_count": 13,
   "id": "942130f5",
   "metadata": {},
   "outputs": [
    {
     "data": {
      "text/html": [
       "<div>\n",
       "<style scoped>\n",
       "    .dataframe tbody tr th:only-of-type {\n",
       "        vertical-align: middle;\n",
       "    }\n",
       "\n",
       "    .dataframe tbody tr th {\n",
       "        vertical-align: top;\n",
       "    }\n",
       "\n",
       "    .dataframe thead th {\n",
       "        text-align: right;\n",
       "    }\n",
       "</style>\n",
       "<table border=\"1\" class=\"dataframe\">\n",
       "  <thead>\n",
       "    <tr style=\"text-align: right;\">\n",
       "      <th></th>\n",
       "      <th>Channel</th>\n",
       "      <th>Region</th>\n",
       "      <th>Fresh</th>\n",
       "      <th>Milk</th>\n",
       "      <th>Grocery</th>\n",
       "      <th>Frozen</th>\n",
       "      <th>Detergents_Paper</th>\n",
       "      <th>Delicassen</th>\n",
       "    </tr>\n",
       "  </thead>\n",
       "  <tbody>\n",
       "    <tr>\n",
       "      <th>74</th>\n",
       "      <td>2</td>\n",
       "      <td>3</td>\n",
       "      <td>8190</td>\n",
       "      <td>6343</td>\n",
       "      <td>9794</td>\n",
       "      <td>1285</td>\n",
       "      <td>1901</td>\n",
       "      <td>1780</td>\n",
       "    </tr>\n",
       "    <tr>\n",
       "      <th>240</th>\n",
       "      <td>1</td>\n",
       "      <td>1</td>\n",
       "      <td>22096</td>\n",
       "      <td>3575</td>\n",
       "      <td>7041</td>\n",
       "      <td>11422</td>\n",
       "      <td>343</td>\n",
       "      <td>2564</td>\n",
       "    </tr>\n",
       "    <tr>\n",
       "      <th>136</th>\n",
       "      <td>1</td>\n",
       "      <td>3</td>\n",
       "      <td>4625</td>\n",
       "      <td>8579</td>\n",
       "      <td>7030</td>\n",
       "      <td>4575</td>\n",
       "      <td>2447</td>\n",
       "      <td>1542</td>\n",
       "    </tr>\n",
       "    <tr>\n",
       "      <th>422</th>\n",
       "      <td>1</td>\n",
       "      <td>3</td>\n",
       "      <td>26400</td>\n",
       "      <td>1377</td>\n",
       "      <td>4172</td>\n",
       "      <td>830</td>\n",
       "      <td>948</td>\n",
       "      <td>1218</td>\n",
       "    </tr>\n",
       "    <tr>\n",
       "      <th>224</th>\n",
       "      <td>1</td>\n",
       "      <td>1</td>\n",
       "      <td>7274</td>\n",
       "      <td>659</td>\n",
       "      <td>1499</td>\n",
       "      <td>784</td>\n",
       "      <td>70</td>\n",
       "      <td>659</td>\n",
       "    </tr>\n",
       "  </tbody>\n",
       "</table>\n",
       "</div>"
      ],
      "text/plain": [
       "     Channel  Region  Fresh  Milk  Grocery  Frozen  Detergents_Paper  \\\n",
       "74         2       3   8190  6343     9794    1285              1901   \n",
       "240        1       1  22096  3575     7041   11422               343   \n",
       "136        1       3   4625  8579     7030    4575              2447   \n",
       "422        1       3  26400  1377     4172     830               948   \n",
       "224        1       1   7274   659     1499     784                70   \n",
       "\n",
       "     Delicassen  \n",
       "74         1780  \n",
       "240        2564  \n",
       "136        1542  \n",
       "422        1218  \n",
       "224         659  "
      ]
     },
     "execution_count": 13,
     "metadata": {},
     "output_type": "execute_result"
    }
   ],
   "source": [
    "#Displaying data\n",
    "\n",
    "df.sample(5)"
   ]
  },
  {
   "cell_type": "code",
   "execution_count": 14,
   "id": "4c598983",
   "metadata": {},
   "outputs": [
    {
     "data": {
      "text/plain": [
       "(440, 8)"
      ]
     },
     "execution_count": 14,
     "metadata": {},
     "output_type": "execute_result"
    }
   ],
   "source": [
    "#displaying shape\n",
    "\n",
    "df.shape"
   ]
  },
  {
   "cell_type": "code",
   "execution_count": 23,
   "id": "b0c23323",
   "metadata": {},
   "outputs": [
    {
     "data": {
      "text/plain": [
       "array([[<Axes: title={'center': 'Channel'}>,\n",
       "        <Axes: title={'center': 'Region'}>,\n",
       "        <Axes: title={'center': 'Fresh'}>],\n",
       "       [<Axes: title={'center': 'Milk'}>,\n",
       "        <Axes: title={'center': 'Grocery'}>,\n",
       "        <Axes: title={'center': 'Frozen'}>],\n",
       "       [<Axes: title={'center': 'Detergents_Paper'}>,\n",
       "        <Axes: title={'center': 'Delicassen'}>, <Axes: >]], dtype=object)"
      ]
     },
     "execution_count": 23,
     "metadata": {},
     "output_type": "execute_result"
    },
    {
     "data": {
      "image/png": "[encoded data removed]",
      "text/plain": [
       "<Figure size 1200x1000 with 9 Axes>"
      ]
     },
     "metadata": {},
     "output_type": "display_data"
    }
   ],
   "source": [
    "#plot the histograms \n",
    "\n",
    "df.hist(grid=False, figsize=(12,10))"
   ]
  },
  {
   "cell_type": "code",
   "execution_count": 24,
   "id": "efd9a5de",
   "metadata": {},
   "outputs": [],
   "source": [
    "#clustering the data using KMeans algorithm"
   ]
  },
  {
   "cell_type": "code",
   "execution_count": 25,
   "id": "6acc4675",
   "metadata": {},
   "outputs": [],
   "source": [
    "#number of clusters\n",
    "\n",
    "n_cluster=4"
   ]
  },
  {
   "cell_type": "code",
   "execution_count": 26,
   "id": "2f1e3b9b",
   "metadata": {},
   "outputs": [],
   "source": [
    "#Creating the model\n",
    "\n",
    "cluster = KMeans(n_clusters = n_cluster)"
   ]
  },
  {
   "cell_type": "code",
   "execution_count": 27,
   "id": "28e3e005",
   "metadata": {},
   "outputs": [
    {
     "name": "stderr",
     "output_type": "stream",
     "text": [
      "C:\\Users\\polap\\anaconda3\\Lib\\site-packages\\sklearn\\cluster\\_kmeans.py:1412: FutureWarning: The default value of `n_init` will change from 10 to 'auto' in 1.4. Set the value of `n_init` explicitly to suppress the warning\n",
      "  super()._check_params_vs_input(X, default_n_init=10)\n",
      "C:\\Users\\polap\\anaconda3\\Lib\\site-packages\\sklearn\\cluster\\_kmeans.py:1436: UserWarning: KMeans is known to have a memory leak on Windows with MKL, when there are less chunks than available threads. You can avoid it by setting the environment variable OMP_NUM_THREADS=2.\n",
      "  warnings.warn(\n"
     ]
    }
   ],
   "source": [
    "#Train the model\n",
    "\n",
    "result = cluster.fit_transform(df)"
   ]
  },
  {
   "cell_type": "code",
   "execution_count": 28,
   "id": "42224e6f",
   "metadata": {},
   "outputs": [],
   "source": [
    "#warnings can be suppresed using the warnings library"
   ]
  },
  {
   "cell_type": "code",
   "execution_count": 29,
   "id": "f65ad7c3",
   "metadata": {},
   "outputs": [
    {
     "data": {
      "text/plain": [
       "array([[1.87368421e+00, 2.51578947e+00, 5.11365263e+03, 1.12433053e+04,\n",
       "        1.75181684e+04, 1.59780000e+03, 7.61161053e+03, 1.86553684e+03],\n",
       "       [2.00000000e+00, 2.57142857e+00, 2.00312857e+04, 3.80840000e+04,\n",
       "        5.61261429e+04, 2.56457143e+03, 2.76445714e+04, 2.54814286e+03],\n",
       "       [1.13559322e+00, 2.59322034e+00, 3.61563898e+04, 6.12364407e+03,\n",
       "        6.36677966e+03, 6.81111864e+03, 1.05001695e+03, 3.09005085e+03],\n",
       "       [1.15770609e+00, 2.54121864e+00, 9.03544086e+03, 3.06222222e+03,\n",
       "        3.82011828e+03, 2.79588172e+03, 1.03688530e+03, 1.05221147e+03]])"
      ]
     },
     "execution_count": 29,
     "metadata": {},
     "output_type": "execute_result"
    }
   ],
   "source": [
    "#printing the cluster centers for the trained model\n",
    "\n",
    "cluster.cluster_centers_"
   ]
  },
  {
   "cell_type": "code",
   "execution_count": 30,
   "id": "0d4612e3",
   "metadata": {},
   "outputs": [],
   "source": [
    "#predict the data and add it into a new column \n",
    "\n",
    "df['cluster_number'] = cluster.predict(df)"
   ]
  },
  {
   "cell_type": "code",
   "execution_count": 31,
   "id": "8ca914ca",
   "metadata": {},
   "outputs": [
    {
     "data": {
      "text/html": [
       "<div>\n",
       "<style scoped>\n",
       "    .dataframe tbody tr th:only-of-type {\n",
       "        vertical-align: middle;\n",
       "    }\n",
       "\n",
       "    .dataframe tbody tr th {\n",
       "        vertical-align: top;\n",
       "    }\n",
       "\n",
       "    .dataframe thead th {\n",
       "        text-align: right;\n",
       "    }\n",
       "</style>\n",
       "<table border=\"1\" class=\"dataframe\">\n",
       "  <thead>\n",
       "    <tr style=\"text-align: right;\">\n",
       "      <th></th>\n",
       "      <th>Channel</th>\n",
       "      <th>Region</th>\n",
       "      <th>Fresh</th>\n",
       "      <th>Milk</th>\n",
       "      <th>Grocery</th>\n",
       "      <th>Frozen</th>\n",
       "      <th>Detergents_Paper</th>\n",
       "      <th>Delicassen</th>\n",
       "      <th>cluster_number</th>\n",
       "    </tr>\n",
       "  </thead>\n",
       "  <tbody>\n",
       "    <tr>\n",
       "      <th>283</th>\n",
       "      <td>1</td>\n",
       "      <td>3</td>\n",
       "      <td>25767</td>\n",
       "      <td>3613</td>\n",
       "      <td>2013</td>\n",
       "      <td>10303</td>\n",
       "      <td>314</td>\n",
       "      <td>1384</td>\n",
       "      <td>2</td>\n",
       "    </tr>\n",
       "    <tr>\n",
       "      <th>206</th>\n",
       "      <td>1</td>\n",
       "      <td>1</td>\n",
       "      <td>6373</td>\n",
       "      <td>780</td>\n",
       "      <td>950</td>\n",
       "      <td>878</td>\n",
       "      <td>288</td>\n",
       "      <td>285</td>\n",
       "      <td>3</td>\n",
       "    </tr>\n",
       "    <tr>\n",
       "      <th>168</th>\n",
       "      <td>1</td>\n",
       "      <td>3</td>\n",
       "      <td>5809</td>\n",
       "      <td>735</td>\n",
       "      <td>803</td>\n",
       "      <td>1393</td>\n",
       "      <td>79</td>\n",
       "      <td>429</td>\n",
       "      <td>3</td>\n",
       "    </tr>\n",
       "    <tr>\n",
       "      <th>35</th>\n",
       "      <td>2</td>\n",
       "      <td>3</td>\n",
       "      <td>688</td>\n",
       "      <td>5491</td>\n",
       "      <td>11091</td>\n",
       "      <td>833</td>\n",
       "      <td>4239</td>\n",
       "      <td>436</td>\n",
       "      <td>0</td>\n",
       "    </tr>\n",
       "    <tr>\n",
       "      <th>271</th>\n",
       "      <td>1</td>\n",
       "      <td>1</td>\n",
       "      <td>2083</td>\n",
       "      <td>5007</td>\n",
       "      <td>1563</td>\n",
       "      <td>1120</td>\n",
       "      <td>147</td>\n",
       "      <td>1550</td>\n",
       "      <td>3</td>\n",
       "    </tr>\n",
       "  </tbody>\n",
       "</table>\n",
       "</div>"
      ],
      "text/plain": [
       "     Channel  Region  Fresh  Milk  Grocery  Frozen  Detergents_Paper  \\\n",
       "283        1       3  25767  3613     2013   10303               314   \n",
       "206        1       1   6373   780      950     878               288   \n",
       "168        1       3   5809   735      803    1393                79   \n",
       "35         2       3    688  5491    11091     833              4239   \n",
       "271        1       1   2083  5007     1563    1120               147   \n",
       "\n",
       "     Delicassen  cluster_number  \n",
       "283        1384               2  \n",
       "206         285               3  \n",
       "168         429               3  \n",
       "35          436               0  \n",
       "271        1550               3  "
      ]
     },
     "execution_count": 31,
     "metadata": {},
     "output_type": "execute_result"
    }
   ],
   "source": [
    "df.sample(5)"
   ]
  },
  {
   "cell_type": "code",
   "execution_count": 32,
   "id": "b69c94c9",
   "metadata": {},
   "outputs": [
    {
     "data": {
      "text/plain": [
       "cluster_number\n",
       "3    279\n",
       "0     95\n",
       "2     59\n",
       "1      7\n",
       "Name: count, dtype: int64"
      ]
     },
     "execution_count": 32,
     "metadata": {},
     "output_type": "execute_result"
    }
   ],
   "source": [
    "df.cluster_number.value_counts()"
   ]
  },
  {
   "cell_type": "code",
   "execution_count": 33,
   "id": "e7671de4",
   "metadata": {},
   "outputs": [],
   "source": [
    "#cluster number 3 has the highest count "
   ]
  },
  {
   "cell_type": "code",
   "execution_count": 43,
   "id": "6f3e9158",
   "metadata": {},
   "outputs": [
    {
     "data": {
      "image/png": "[encoded data removed]",
      "text/plain": [
       "<Figure size 640x480 with 1 Axes>"
      ]
     },
     "metadata": {},
     "output_type": "display_data"
    }
   ],
   "source": [
    "#plotting clsuter_centres\n",
    "\n",
    "plt.scatter(cluster.cluster_centers_[:, 0], cluster.cluster_centers_[:, 1], marker='*', s=400, color='black')\n",
    "plt.show()"
   ]
  }
 ],
 "metadata": {
  "kernelspec": {
   "display_name": "Python 3 (ipykernel)",
   "language": "python",
   "name": "python3"
  },
  "language_info": {
   "codemirror_mode": {
    "name": "ipython",
    "version": 3
   },
   "file_extension": ".py",
   "mimetype": "text/x-python",
   "name": "python",
   "nbconvert_exporter": "python",
   "pygments_lexer": "ipython3",
   "version": "3.11.5"
  }
 },
 "nbformat": 4,
 "nbformat_minor": 5
}
